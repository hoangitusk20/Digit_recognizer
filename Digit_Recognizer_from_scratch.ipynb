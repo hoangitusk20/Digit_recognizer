{
 "cells": [
  {
   "cell_type": "code",
   "execution_count": 1,
   "metadata": {},
   "outputs": [],
   "source": [
    "import pandas as pd\n",
    "import numpy as np"
   ]
  },
  {
   "cell_type": "code",
   "execution_count": 2,
   "metadata": {},
   "outputs": [],
   "source": [
    "test_df = pd.read_csv('test.csv')\n",
    "train_df = pd.read_csv('train.csv')"
   ]
  },
  {
   "cell_type": "code",
   "execution_count": 3,
   "metadata": {},
   "outputs": [],
   "source": [
    "X_test = test_df.iloc[:, :].T\n",
    "Y_train = train_df.iloc[1000:, 0]\n",
    "X_train = train_df.iloc[1000:, 1:].T\n",
    "Y_dev = train_df.iloc[:1000, 0]\n",
    "X_dev = train_df.iloc[:1000, 1:].T\n",
    "#X_dev"
   ]
  },
  {
   "cell_type": "code",
   "execution_count": 4,
   "metadata": {},
   "outputs": [],
   "source": [
    "def params_init(height, width):\n",
    "    W = np.random.rand(height, width) \n",
    "    b = np.random.rand(height, 1)\n",
    "    return W, b"
   ]
  },
  {
   "cell_type": "code",
   "execution_count": 5,
   "metadata": {},
   "outputs": [],
   "source": [
    "learning_rate = 0.9\n",
    "iteration = 500\n",
    "n, m = X_train.shape"
   ]
  },
  {
   "cell_type": "code",
   "execution_count": 6,
   "metadata": {},
   "outputs": [],
   "source": [
    "def ReLu(Z):\n",
    "    return np.maximum(Z, 0)\n",
    "\n",
    "def softmax(Z):\n",
    "    Z = np.exp(Z)\n",
    "    return Z / np.sum(Z, axis = 0, keepdims = True)\n",
    "\n",
    "def ReLu_deriv(Z):\n",
    "    return Z > 0\n",
    "\n",
    "def normalization(A):\n",
    "    mean = np.mean(A, axis=0)\n",
    "    std = np.std(A, axis=0)\n",
    "    A = (A - mean) / std\n",
    "    return A\n",
    "    \n",
    "def one_hot(Y):\n",
    "    one_hot_y = np.zeros((Y.shape[0], 10))\n",
    "    one_hot_y[np.arange(Y.size), Y] = 1\n",
    "    return one_hot_y.T"
   ]
  },
  {
   "cell_type": "code",
   "execution_count": 7,
   "metadata": {},
   "outputs": [],
   "source": [
    "def foward_prop(W1, b1, W2, b2, X):\n",
    "    Z1 = np.dot(W1, X) + b1\n",
    "    Z1 = normalization(Z1)\n",
    "    A1 = ReLu(Z1)\n",
    "    Z2 = np.dot(W2, A1) + b2\n",
    "    #Z2 = normalization(Z2)\n",
    "    A2 = softmax(Z2)\n",
    "    return Z1, A1, Z2, A2"
   ]
  },
  {
   "cell_type": "code",
   "execution_count": 8,
   "metadata": {},
   "outputs": [],
   "source": [
    "def backward_prop(A2, Y, A1, W2, Z1, X):\n",
    "    dz2 = A2 -one_hot(Y)\n",
    "    dw2 = 1 / m * np.dot(dz2, A1.T)\n",
    "    db2 = 1/ m * np.sum(dz2, axis = 1, keepdims = True)\n",
    "    dz1 = np.dot(W2.T, dz2) * ReLu_deriv(Z1)\n",
    "   # print(X.T.shape, dz1. shape)\n",
    "    dw1 = 1 / m * np.dot(dz1 , X.T)\n",
    "    db1 = 1 / m * np.sum(dz1, axis= 1, keepdims= True)\n",
    "    return dw2, dw1, db2, db1\n",
    "    "
   ]
  },
  {
   "cell_type": "code",
   "execution_count": 9,
   "metadata": {},
   "outputs": [],
   "source": [
    "W1, b1 = params_init(64, 784)\n",
    "W2, b2 = params_init(10, 64)\n",
    "for i in range(iteration):\n",
    "    Z1, A1, Z2, A2 = foward_prop(W1, b1, W2, b2, X_train)\n",
    "    dw2, dw1, db2, db1 = backward_prop(A2, Y_train, A1, W2, Z1, X_train)\n",
    "    W1 = W1 - learning_rate * dw1\n",
    "    W2 = W2 - learning_rate * dw2\n",
    "    b1 = b1 - learning_rate * db1\n",
    "    b2 = b2 - learning_rate * db2 \n",
    "\n"
   ]
  },
  {
   "cell_type": "code",
   "execution_count": 10,
   "metadata": {},
   "outputs": [],
   "source": [
    "def predict(W1, b1, W2, b2, X):\n",
    "    Z1, A1, Z2, A2 = foward_prop(W1, b1, W2, b2, X)\n",
    "    Y_predict = np.argmax(A2, axis=0)\n",
    "    return Y_predict\n",
    "    "
   ]
  },
  {
   "cell_type": "code",
   "execution_count": 11,
   "metadata": {},
   "outputs": [
    {
     "data": {
      "text/plain": [
       "0.957"
      ]
     },
     "execution_count": 11,
     "metadata": {},
     "output_type": "execute_result"
    }
   ],
   "source": [
    "Y_predict_dev = predict(W1, b1, W2, b2, X_dev)\n",
    "np.sum(Y_predict_dev == Y_dev) / Y_dev.size\n",
    "#Accuary on dev set"
   ]
  },
  {
   "cell_type": "code",
   "execution_count": 12,
   "metadata": {},
   "outputs": [
    {
     "data": {
      "text/plain": [
       "array([2, 0, 9, ..., 3, 9, 2])"
      ]
     },
     "execution_count": 12,
     "metadata": {},
     "output_type": "execute_result"
    }
   ],
   "source": [
    "Y_predict = predict(W1, b1, W2, b2, X_test)\n",
    "Y_predict"
   ]
  },
  {
   "cell_type": "code",
   "execution_count": 13,
   "metadata": {},
   "outputs": [],
   "source": [
    "image_id = np.arange(Y_predict.size) + 1\n",
    "submission = pd.DataFrame({'ImageId' : image_id, 'Label': Y_predict})\n",
    "submission.to_csv('submission.csv', index=False)"
   ]
  },
  {
   "cell_type": "code",
   "execution_count": null,
   "metadata": {},
   "outputs": [],
   "source": []
  }
 ],
 "metadata": {
  "kernelspec": {
   "display_name": "base",
   "language": "python",
   "name": "python3"
  },
  "language_info": {
   "codemirror_mode": {
    "name": "ipython",
    "version": 3
   },
   "file_extension": ".py",
   "mimetype": "text/x-python",
   "name": "python",
   "nbconvert_exporter": "python",
   "pygments_lexer": "ipython3",
   "version": "3.11.5"
  }
 },
 "nbformat": 4,
 "nbformat_minor": 2
}
