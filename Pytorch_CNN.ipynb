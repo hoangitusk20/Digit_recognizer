{
  "nbformat": 4,
  "nbformat_minor": 0,
  "metadata": {
    "colab": {
      "provenance": [],
      "gpuType": "T4"
    },
    "kernelspec": {
      "name": "python3",
      "display_name": "Python 3"
    },
    "language_info": {
      "name": "python"
    },
    "accelerator": "GPU"
  },
  "cells": [
    {
      "cell_type": "code",
      "execution_count": 2,
      "metadata": {
        "id": "S76NgoxuQJXK"
      },
      "outputs": [],
      "source": [
        "import torch\n",
        "import torch.nn as nn\n",
        "import torch.optim as optim\n",
        "from torch.utils.data import DataLoader, TensorDataset\n",
        "import numpy as np\n",
        "import pandas as pd\n",
        "from sklearn.metrics import accuracy_score"
      ]
    },
    {
      "cell_type": "code",
      "source": [
        "torch.__version__"
      ],
      "metadata": {
        "colab": {
          "base_uri": "https://localhost:8080/",
          "height": 35
        },
        "id": "aJCjMuM-Q2TK",
        "outputId": "ed7ec856-fca8-49b9-e530-6cde5c5d9d19"
      },
      "execution_count": 3,
      "outputs": [
        {
          "output_type": "execute_result",
          "data": {
            "text/plain": [
              "'2.1.0+cu118'"
            ],
            "application/vnd.google.colaboratory.intrinsic+json": {
              "type": "string"
            }
          },
          "metadata": {},
          "execution_count": 3
        }
      ]
    },
    {
      "cell_type": "code",
      "source": [
        "from google.colab import drive\n",
        "drive.mount('/content/drive')"
      ],
      "metadata": {
        "colab": {
          "base_uri": "https://localhost:8080/"
        },
        "id": "GKiMYb1-RSwK",
        "outputId": "ee5c15ad-152c-4326-dda6-ead289fe6206"
      },
      "execution_count": 4,
      "outputs": [
        {
          "output_type": "stream",
          "name": "stdout",
          "text": [
            "Drive already mounted at /content/drive; to attempt to forcibly remount, call drive.mount(\"/content/drive\", force_remount=True).\n"
          ]
        }
      ]
    },
    {
      "cell_type": "code",
      "source": [
        "train_df = pd.read_csv(\"drive/MyDrive/MNIST/train.csv\")\n",
        "test_df = pd.read_csv(\"drive/MyDrive/MNIST/test.csv\")\n",
        "\n",
        "X_val = train_df.iloc[:1000, 1:].values\n",
        "X_train = train_df.iloc[1000:, 1:].values\n",
        "\n",
        "y_val = train_df.iloc[:1000, 0].values\n",
        "y_train = train_df.iloc[1000:, 0].values\n",
        "\n",
        "X_test = test_df.values\n",
        "\n"
      ],
      "metadata": {
        "id": "18RelWZfRbxf"
      },
      "execution_count": 69,
      "outputs": []
    },
    {
      "cell_type": "code",
      "source": [
        "X_val = torch.tensor(X_val, dtype = torch.float32)\n",
        "X_train = torch.tensor(X_train, dtype = torch.float32)\n",
        "X_test = torch.tensor(X_test, dtype = torch.float32)\n",
        "y_train = torch.tensor(y_train)\n",
        "y_val = torch.tensor(y_val)\n",
        "\n",
        "X_val /=255.0\n",
        "X_train /=255.0\n",
        "X_test /= 255.0\n"
      ],
      "metadata": {
        "id": "S21sL4rFS56D"
      },
      "execution_count": 70,
      "outputs": []
    },
    {
      "cell_type": "code",
      "source": [
        "batch_size = 32\n",
        "\n",
        "train_dataset = TensorDataset(X_train, y_train)\n",
        "val_dataset = TensorDataset(X_val, y_val)\n",
        "\n",
        "train_loader = DataLoader(train_dataset, batch_size= batch_size, shuffle=True)\n",
        "val_loader = DataLoader(val_dataset, batch_size= batch_size)\n"
      ],
      "metadata": {
        "id": "ov7UlUhrToZi"
      },
      "execution_count": 95,
      "outputs": []
    },
    {
      "cell_type": "code",
      "source": [
        "device = \"cuda\" if torch.cuda.is_available() else \"cpu\"\n",
        "device"
      ],
      "metadata": {
        "colab": {
          "base_uri": "https://localhost:8080/",
          "height": 35
        },
        "id": "kvRqgPPHUdEL",
        "outputId": "cbc2b605-d01a-4bce-ebec-b04ddf00e598"
      },
      "execution_count": 96,
      "outputs": [
        {
          "output_type": "execute_result",
          "data": {
            "text/plain": [
              "'cuda'"
            ],
            "application/vnd.google.colaboratory.intrinsic+json": {
              "type": "string"
            }
          },
          "metadata": {},
          "execution_count": 96
        }
      ]
    },
    {
      "cell_type": "code",
      "source": [
        "class CNN(nn.Module):\n",
        "  def __init__(self):\n",
        "    super(CNN, self).__init__()\n",
        "    self.conv1 = nn.Conv2d(in_channels = 1, out_channels=32, kernel_size=5)\n",
        "    self.pool_2 = nn.MaxPool2d(2)\n",
        "    self.conv2 = nn.Conv2d(in_channels = 32, out_channels = 64, kernel_size=3)\n",
        "    self.pool_4 = nn.MaxPool2d(3)\n",
        "    self.flat = nn.Flatten(start_dim=1, end_dim=-1)\n",
        "    self.fc1 = nn.Linear(in_features=576, out_features=128)\n",
        "    self.fc2 = nn.Linear(in_features=128, out_features=10)\n",
        "    self.drop_out = nn.Dropout2d(0.2)\n",
        "    self.relu = nn.ReLU()\n",
        "\n",
        "  def forward(self, x):\n",
        "    x = self.relu(self.conv1(x))\n",
        "    x = self.drop_out(x)\n",
        "    x = self.pool_2(x)\n",
        "    x = self.relu(self.conv2(x))\n",
        "    x = self.drop_out(x)\n",
        "    x = self.pool_4(x)\n",
        "    x = self.flat(x)\n",
        "    x = self.relu(self.fc1(x))\n",
        "    x = self.relu(self.fc2(x))\n",
        "\n",
        "    return x\n"
      ],
      "metadata": {
        "id": "TcTbV0lNU5KZ"
      },
      "execution_count": 106,
      "outputs": []
    },
    {
      "cell_type": "code",
      "source": [
        "model = CNN().to(device)"
      ],
      "metadata": {
        "id": "Z_g_niapmaHD"
      },
      "execution_count": 110,
      "outputs": []
    },
    {
      "cell_type": "code",
      "source": [
        "criterion = nn.CrossEntropyLoss()\n",
        "optimizer = optim.SGD(model.parameters(), lr=0.2)"
      ],
      "metadata": {
        "id": "RS3CP-GCmq0e"
      },
      "execution_count": 111,
      "outputs": []
    },
    {
      "cell_type": "code",
      "source": [
        "num_epochs = 10\n",
        "\n",
        "for epoch in range(num_epochs):\n",
        "  model.train()\n",
        "  for batch_x, batch_y in train_loader:\n",
        "    batch_x = batch_x.to(device)\n",
        "    batch_y = batch_y.to(device)\n",
        "    optimizer.zero_grad()\n",
        "    batch_x = batch_x.reshape(batch_x.shape[0], 1, 28, 28)\n",
        "    output = model(batch_x)\n",
        "    loss = criterion(output, batch_y)\n",
        "    loss.backward()\n",
        "    optimizer.step()\n",
        "\n",
        "  model.eval()\n",
        "\n",
        "  with torch.inference_mode():\n",
        "    val_predict = []\n",
        "    for batch_x, batch_y in val_loader:\n",
        "      batch_x = batch_x.to(device)\n",
        "      batch_y = batch_y.to(device)\n",
        "      batch_x = batch_x.reshape(batch_x.shape[0], 1, 28, 28)\n",
        "      output = model(batch_x)\n",
        "      _, prediction = torch.max(output, 1)\n",
        "\n",
        "      val_predict.extend(prediction.cpu().numpy())\n",
        "    accuracy = accuracy_score(y_val, val_predict)\n",
        "    print(f'Epoch[{epoch + 1}/{num_epochs}], Acc: {accuracy * 100:.2f}%')\n"
      ],
      "metadata": {
        "colab": {
          "base_uri": "https://localhost:8080/"
        },
        "id": "ksMaKEVjmvgC",
        "outputId": "8589447a-76e3-4473-df02-1421b4989b2b"
      },
      "execution_count": 118,
      "outputs": [
        {
          "output_type": "stream",
          "name": "stdout",
          "text": [
            "Epoch[1/10], Acc: 99.00%\n",
            "Epoch[2/10], Acc: 94.90%\n",
            "Epoch[3/10], Acc: 98.80%\n",
            "Epoch[4/10], Acc: 98.90%\n",
            "Epoch[5/10], Acc: 99.00%\n",
            "Epoch[6/10], Acc: 98.70%\n",
            "Epoch[7/10], Acc: 99.20%\n",
            "Epoch[8/10], Acc: 98.90%\n",
            "Epoch[9/10], Acc: 98.90%\n",
            "Epoch[10/10], Acc: 99.00%\n"
          ]
        }
      ]
    },
    {
      "cell_type": "code",
      "source": [
        "with torch.inference_mode():\n",
        "  X_test = X_test.to(device)\n",
        "  X = X_test.reshape(X_test.shape[0], 1, 28, 28)\n",
        "  output = model(X)\n",
        "  _, predictions = torch.max(output, axis = 1)\n",
        "\n",
        "print(predictions)\n",
        "\n"
      ],
      "metadata": {
        "colab": {
          "base_uri": "https://localhost:8080/"
        },
        "id": "u3ZHDl9Zyp6g",
        "outputId": "f845a523-07d1-4f24-91eb-e1de057e4ab9"
      },
      "execution_count": 115,
      "outputs": [
        {
          "output_type": "stream",
          "name": "stdout",
          "text": [
            "tensor([2, 0, 9,  ..., 3, 9, 2], device='cuda:0')\n"
          ]
        }
      ]
    },
    {
      "cell_type": "code",
      "source": [
        "ImageId = np.arange(predictions.shape[0]) + 1\n",
        "submission = pd.DataFrame({'ImageId': ImageId, 'Label': predictions.cpu()})\n",
        "submission.to_csv('submission.csv', index=False)\n"
      ],
      "metadata": {
        "id": "cExY0KfTyvWb"
      },
      "execution_count": 117,
      "outputs": []
    }
  ]
}