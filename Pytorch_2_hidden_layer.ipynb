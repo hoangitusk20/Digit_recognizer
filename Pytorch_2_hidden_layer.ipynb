{
  "cells": [
    {
      "cell_type": "code",
      "execution_count": 1,
      "id": "172528dc",
      "metadata": {
        "id": "172528dc"
      },
      "outputs": [],
      "source": [
        "import torch\n",
        "import torch.nn as nn\n",
        "import torch.nn.functional as F\n",
        "import torch.optim as optim\n",
        "from torch.utils.data import DataLoader, TensorDataset\n",
        "import numpy as np\n",
        "import pandas as pd\n",
        "from sklearn.metrics import accuracy_score"
      ]
    },
    {
      "cell_type": "code",
      "execution_count": 2,
      "id": "b977b79a",
      "metadata": {
        "colab": {
          "base_uri": "https://localhost:8080/",
          "height": 35
        },
        "id": "b977b79a",
        "outputId": "e5816389-41db-4b36-952f-5a37e15b1acd"
      },
      "outputs": [
        {
          "output_type": "execute_result",
          "data": {
            "text/plain": [
              "'2.1.0+cu118'"
            ],
            "application/vnd.google.colaboratory.intrinsic+json": {
              "type": "string"
            }
          },
          "metadata": {},
          "execution_count": 2
        }
      ],
      "source": [
        "torch.__version__"
      ]
    },
    {
      "cell_type": "code",
      "source": [
        "from google.colab import drive\n",
        "drive.mount('/content/drive')"
      ],
      "metadata": {
        "colab": {
          "base_uri": "https://localhost:8080/"
        },
        "id": "8Eb50mBfD1SN",
        "outputId": "67d514cd-17b3-4443-aeaa-9a90e0077b10"
      },
      "id": "8Eb50mBfD1SN",
      "execution_count": 3,
      "outputs": [
        {
          "output_type": "stream",
          "name": "stdout",
          "text": [
            "Drive already mounted at /content/drive; to attempt to forcibly remount, call drive.mount(\"/content/drive\", force_remount=True).\n"
          ]
        }
      ]
    },
    {
      "cell_type": "code",
      "source": [
        "!cd drive/MyDrive/MNIST\n"
      ],
      "metadata": {
        "id": "hs5zSa2WEeLo"
      },
      "id": "hs5zSa2WEeLo",
      "execution_count": 4,
      "outputs": []
    },
    {
      "cell_type": "code",
      "execution_count": 5,
      "id": "c3284278",
      "metadata": {
        "id": "c3284278"
      },
      "outputs": [],
      "source": [
        "batch_size = 32"
      ]
    },
    {
      "cell_type": "code",
      "execution_count": 6,
      "id": "dd07528e",
      "metadata": {
        "id": "dd07528e"
      },
      "outputs": [],
      "source": [
        "train_df = pd.read_csv('drive/MyDrive/MNIST/train.csv')\n",
        "X_val = torch.tensor(train_df.iloc[:1000, 1:].values, dtype=torch.float32)\n",
        "X_train = torch.tensor(train_df.iloc[1000:, 1:].values, dtype=torch.float32)\n",
        "y_val = torch.tensor(train_df.loc[:999, 'label'].values)\n",
        "y_train = torch.tensor(train_df.loc[1000:, 'label'].values)\n",
        "\n",
        "X_train /= 255.0\n",
        "X_val /= 255.0\n",
        "\n",
        "\n",
        "test_df = pd.read_csv('drive/MyDrive/MNIST/test.csv')\n",
        "X_test = torch.tensor(test_df.values, dtype=torch.float32)\n",
        "X_test /= 255.0\n"
      ]
    },
    {
      "cell_type": "code",
      "execution_count": 7,
      "id": "f0e82cd4",
      "metadata": {
        "id": "f0e82cd4"
      },
      "outputs": [],
      "source": [
        "train_dataset = TensorDataset(X_train, y_train)\n",
        "val_dataset = TensorDataset(X_val, y_val)\n",
        "\n",
        "train_loader = DataLoader(train_dataset, batch_size=batch_size, shuffle=True)\n",
        "val_loader = DataLoader(val_dataset, batch_size=batch_size)\n"
      ]
    },
    {
      "cell_type": "code",
      "execution_count": 8,
      "id": "de6d7d76",
      "metadata": {
        "colab": {
          "base_uri": "https://localhost:8080/",
          "height": 35
        },
        "id": "de6d7d76",
        "outputId": "5b1dae72-f4d5-470e-8455-c7090216c0c2"
      },
      "outputs": [
        {
          "output_type": "execute_result",
          "data": {
            "text/plain": [
              "'cuda'"
            ],
            "application/vnd.google.colaboratory.intrinsic+json": {
              "type": "string"
            }
          },
          "metadata": {},
          "execution_count": 8
        }
      ],
      "source": [
        "device = \"cuda\" if torch.cuda.is_available() else \"cpu\"\n",
        "device"
      ]
    },
    {
      "cell_type": "code",
      "execution_count": 9,
      "id": "0b518d92",
      "metadata": {
        "id": "0b518d92"
      },
      "outputs": [],
      "source": [
        "class NeuralNetwork(nn.Module):\n",
        "    def __init__(self, input_size, hidden_size1, hidden_size2, num_classes):\n",
        "        super(NeuralNetwork, self).__init__()\n",
        "        self.fc1 = nn.Linear(input_size, hidden_size1)\n",
        "        self.fc2 = nn.Linear(hidden_size1, hidden_size2)\n",
        "        self.fc3 = nn.Linear(hidden_size2, num_classes)\n",
        "        self.relu = nn.ReLU()\n",
        "\n",
        "    def forward(self, x):\n",
        "        x = self.relu(self.fc1(x))\n",
        "        x = self.relu(self.fc2(x))\n",
        "        x = self.fc3(x)\n",
        "        return x"
      ]
    },
    {
      "cell_type": "code",
      "execution_count": 10,
      "id": "a763ff40",
      "metadata": {
        "id": "a763ff40"
      },
      "outputs": [],
      "source": [
        "input_size = X_train.shape[1]\n",
        "hidden_size1 = 128\n",
        "hidden_size2 = 64\n",
        "num_classes = 10\n",
        "\n",
        "model = NeuralNetwork(input_size, hidden_size1, hidden_size2, num_classes)\n"
      ]
    },
    {
      "cell_type": "code",
      "execution_count": 11,
      "id": "3a1ea890",
      "metadata": {
        "id": "3a1ea890"
      },
      "outputs": [],
      "source": [
        "criterion = nn.CrossEntropyLoss()\n",
        "optimizer = optim.SGD(model.parameters(), lr=0.2)"
      ]
    },
    {
      "cell_type": "code",
      "execution_count": 12,
      "id": "a158ef06",
      "metadata": {
        "colab": {
          "base_uri": "https://localhost:8080/"
        },
        "id": "a158ef06",
        "outputId": "eff934db-3ad4-450c-c194-4baaa3bc294d"
      },
      "outputs": [
        {
          "output_type": "stream",
          "name": "stdout",
          "text": [
            "Epoch [1/10], Validation Accuracy: 93.90%\n",
            "Epoch [2/10], Validation Accuracy: 89.40%\n",
            "Epoch [3/10], Validation Accuracy: 96.40%\n",
            "Epoch [4/10], Validation Accuracy: 97.40%\n",
            "Epoch [5/10], Validation Accuracy: 97.30%\n",
            "Epoch [6/10], Validation Accuracy: 97.30%\n",
            "Epoch [7/10], Validation Accuracy: 93.80%\n",
            "Epoch [8/10], Validation Accuracy: 97.30%\n",
            "Epoch [9/10], Validation Accuracy: 97.60%\n",
            "Epoch [10/10], Validation Accuracy: 98.10%\n"
          ]
        }
      ],
      "source": [
        "num_epochs = 10\n",
        "\n",
        "for epoch in range(num_epochs):\n",
        "    model.train()\n",
        "    for batch_x, batch_y in train_loader:\n",
        "        optimizer.zero_grad()\n",
        "        outputs = model(batch_x)\n",
        "        loss = criterion(outputs, batch_y)\n",
        "        loss.backward()\n",
        "        optimizer.step()\n",
        "\n",
        "    model.eval()\n",
        "    with torch.inference_mode():\n",
        "        val_predictions = []\n",
        "        for batch_x, batch_y in val_loader:\n",
        "            outputs = model(batch_x)\n",
        "            _, predicted = torch.max(outputs, 1)\n",
        "            val_predictions.extend(predicted.numpy())\n",
        "        accuracy = accuracy_score(y_val, val_predictions)\n",
        "        print(f'Epoch [{epoch+1}/{num_epochs}], Validation Accuracy: {accuracy * 100:.2f}%')"
      ]
    },
    {
      "cell_type": "code",
      "execution_count": 13,
      "id": "84cc38e7",
      "metadata": {
        "colab": {
          "base_uri": "https://localhost:8080/"
        },
        "id": "84cc38e7",
        "outputId": "582820a6-f04f-4378-8928-006516a3ab87"
      },
      "outputs": [
        {
          "output_type": "stream",
          "name": "stdout",
          "text": [
            "tensor([2, 0, 9,  ..., 3, 9, 2])\n"
          ]
        }
      ],
      "source": [
        "with torch.inference_mode():\n",
        "  output = model(X_test)\n",
        "  _, predictions = torch.max(output, axis = 1)\n",
        "\n",
        "print(predictions)"
      ]
    },
    {
      "cell_type": "code",
      "source": [
        "ImageId = np.arange(predictions.shape[0]) + 1\n",
        "submission = pd.DataFrame({'ImageId': ImageId, 'Label': predictions})\n",
        "submission.to_csv('submission.csv', index=False)"
      ],
      "metadata": {
        "id": "ARSWslF0I8CG"
      },
      "id": "ARSWslF0I8CG",
      "execution_count": 14,
      "outputs": []
    }
  ],
  "metadata": {
    "kernelspec": {
      "display_name": "Python 3",
      "name": "python3"
    },
    "language_info": {
      "codemirror_mode": {
        "name": "ipython",
        "version": 3
      },
      "file_extension": ".py",
      "mimetype": "text/x-python",
      "name": "python",
      "nbconvert_exporter": "python",
      "pygments_lexer": "ipython3",
      "version": "3.11.5"
    },
    "colab": {
      "provenance": [],
      "gpuType": "T4"
    },
    "accelerator": "GPU"
  },
  "nbformat": 4,
  "nbformat_minor": 5
}