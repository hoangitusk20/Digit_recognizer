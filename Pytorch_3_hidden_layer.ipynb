{
  "cells": [
    {
      "cell_type": "code",
      "execution_count": 2,
      "metadata": {
        "id": "172528dc"
      },
      "outputs": [],
      "source": [
        "import torch\n",
        "import torch.nn as nn\n",
        "import torch.nn.functional as F\n",
        "import torch.optim as optim\n",
        "from torch.utils.data import DataLoader, TensorDataset\n",
        "import numpy as np\n",
        "import pandas as pd\n",
        "from sklearn.metrics import accuracy_score"
      ],
      "id": "172528dc"
    },
    {
      "cell_type": "code",
      "execution_count": 3,
      "metadata": {
        "colab": {
          "base_uri": "https://localhost:8080/",
          "height": 35
        },
        "id": "b977b79a",
        "outputId": "89edee3d-f30a-4042-ac2f-47b27057c037"
      },
      "outputs": [
        {
          "output_type": "execute_result",
          "data": {
            "text/plain": [
              "'2.1.0+cu118'"
            ],
            "application/vnd.google.colaboratory.intrinsic+json": {
              "type": "string"
            }
          },
          "metadata": {},
          "execution_count": 3
        }
      ],
      "source": [
        "torch.__version__"
      ],
      "id": "b977b79a"
    },
    {
      "cell_type": "code",
      "execution_count": 4,
      "metadata": {
        "colab": {
          "base_uri": "https://localhost:8080/"
        },
        "id": "8Eb50mBfD1SN",
        "outputId": "9b73b4b2-472f-4ef1-f455-2c4eeb4a420c"
      },
      "outputs": [
        {
          "output_type": "stream",
          "name": "stdout",
          "text": [
            "Mounted at /content/drive\n"
          ]
        }
      ],
      "source": [
        "from google.colab import drive\n",
        "drive.mount('/content/drive')"
      ],
      "id": "8Eb50mBfD1SN"
    },
    {
      "cell_type": "code",
      "execution_count": 5,
      "metadata": {
        "id": "c3284278"
      },
      "outputs": [],
      "source": [
        "batch_size = 32"
      ],
      "id": "c3284278"
    },
    {
      "cell_type": "code",
      "execution_count": 6,
      "metadata": {
        "id": "dd07528e"
      },
      "outputs": [],
      "source": [
        "train_df = pd.read_csv('drive/MyDrive/MNIST/train.csv')\n",
        "X_val = torch.tensor(train_df.iloc[:1000, 1:].values, dtype=torch.float32)\n",
        "X_train = torch.tensor(train_df.iloc[1000:, 1:].values, dtype=torch.float32)\n",
        "y_val = torch.tensor(train_df.loc[:999, 'label'].values)\n",
        "y_train = torch.tensor(train_df.loc[1000:, 'label'].values)\n",
        "\n",
        "X_train /= 255.0\n",
        "X_val /= 255.0\n",
        "\n",
        "\n",
        "test_df = pd.read_csv('drive/MyDrive/MNIST/test.csv')\n",
        "X_test = torch.tensor(test_df.values, dtype=torch.float32)\n",
        "X_test /= 255.0\n"
      ],
      "id": "dd07528e"
    },
    {
      "cell_type": "code",
      "execution_count": 7,
      "metadata": {
        "id": "f0e82cd4"
      },
      "outputs": [],
      "source": [
        "train_dataset = TensorDataset(X_train, y_train)\n",
        "val_dataset = TensorDataset(X_val, y_val)\n",
        "\n",
        "train_loader = DataLoader(train_dataset, batch_size=batch_size, shuffle=True)\n",
        "val_loader = DataLoader(val_dataset, batch_size=batch_size)\n"
      ],
      "id": "f0e82cd4"
    },
    {
      "cell_type": "code",
      "execution_count": 8,
      "metadata": {
        "colab": {
          "base_uri": "https://localhost:8080/",
          "height": 35
        },
        "id": "de6d7d76",
        "outputId": "31880c80-a22f-4393-d008-4e3a67340cb0"
      },
      "outputs": [
        {
          "output_type": "execute_result",
          "data": {
            "text/plain": [
              "'cuda'"
            ],
            "application/vnd.google.colaboratory.intrinsic+json": {
              "type": "string"
            }
          },
          "metadata": {},
          "execution_count": 8
        }
      ],
      "source": [
        "device = \"cuda\" if torch.cuda.is_available() else \"cpu\"\n",
        "device"
      ],
      "id": "de6d7d76"
    },
    {
      "cell_type": "code",
      "execution_count": 9,
      "metadata": {
        "id": "0b518d92"
      },
      "outputs": [],
      "source": [
        "class NeuralNetwork(nn.Module):\n",
        "    def __init__(self, input_size, hidden_size1, hidden_size2, hidden_size3, num_classes):\n",
        "        super(NeuralNetwork, self).__init__()\n",
        "        self.fc1 = nn.Linear(input_size, hidden_size1)\n",
        "        self.fc2 = nn.Linear(hidden_size1, hidden_size2)\n",
        "        self.fc3 = nn.Linear(hidden_size2, hidden_size3)\n",
        "        self.fc4 = nn.Linear(hidden_size3, num_classes)\n",
        "        self.relu = nn.ReLU()\n",
        "\n",
        "    def forward(self, x):\n",
        "        x = self.relu(self.fc1(x))\n",
        "        x = self.relu(self.fc2(x))\n",
        "        x = self.relu(self.fc3(x))\n",
        "        x = self.fc4(x)\n",
        "        return x"
      ],
      "id": "0b518d92"
    },
    {
      "cell_type": "code",
      "execution_count": 10,
      "metadata": {
        "id": "a763ff40"
      },
      "outputs": [],
      "source": [
        "input_size = X_train.shape[1]\n",
        "hidden_size1 = 128\n",
        "hidden_size2 = 64\n",
        "hidden_size3 = 32\n",
        "num_classes = 10\n",
        "\n",
        "model = NeuralNetwork(input_size, hidden_size1, hidden_size2, hidden_size3, num_classes).to(device)\n"
      ],
      "id": "a763ff40"
    },
    {
      "cell_type": "code",
      "execution_count": 12,
      "metadata": {
        "id": "3a1ea890"
      },
      "outputs": [],
      "source": [
        "criterion = nn.CrossEntropyLoss()\n",
        "optimizer = optim.SGD(model.parameters(), lr=0.2)"
      ],
      "id": "3a1ea890"
    },
    {
      "cell_type": "code",
      "execution_count": 13,
      "metadata": {
        "colab": {
          "base_uri": "https://localhost:8080/"
        },
        "id": "a158ef06",
        "outputId": "5077c4fb-5fcd-4ee7-e8f4-6a3777559a31"
      },
      "outputs": [
        {
          "output_type": "stream",
          "name": "stdout",
          "text": [
            "Epoch [1/10], Validation Accuracy: 94.20%\n",
            "Epoch [2/10], Validation Accuracy: 95.80%\n",
            "Epoch [3/10], Validation Accuracy: 97.00%\n",
            "Epoch [4/10], Validation Accuracy: 97.00%\n",
            "Epoch [5/10], Validation Accuracy: 94.50%\n",
            "Epoch [6/10], Validation Accuracy: 97.10%\n",
            "Epoch [7/10], Validation Accuracy: 97.20%\n",
            "Epoch [8/10], Validation Accuracy: 96.50%\n",
            "Epoch [9/10], Validation Accuracy: 97.90%\n",
            "Epoch [10/10], Validation Accuracy: 97.00%\n"
          ]
        }
      ],
      "source": [
        "num_epochs = 10\n",
        "\n",
        "for epoch in range(num_epochs):\n",
        "    model.train()\n",
        "    for batch_x, batch_y in train_loader:\n",
        "        batch_x= batch_x.to(device)\n",
        "        batch_y = batch_y.to(device)\n",
        "        optimizer.zero_grad()\n",
        "        outputs = model(batch_x)\n",
        "        loss = criterion(outputs, batch_y)\n",
        "        loss.backward()\n",
        "        optimizer.step()\n",
        "\n",
        "    model.eval()\n",
        "    with torch.inference_mode():\n",
        "        val_predictions = []\n",
        "        for batch_x, batch_y in val_loader:\n",
        "            batch_x= batch_x.to(device)\n",
        "            outputs = model(batch_x)\n",
        "            _, predicted = torch.max(outputs, 1)\n",
        "            val_predictions.extend(predicted.cpu().numpy())\n",
        "        accuracy = accuracy_score(y_val, val_predictions)\n",
        "        print(f'Epoch [{epoch+1}/{num_epochs}], Validation Accuracy: {accuracy * 100:.2f}%')"
      ],
      "id": "a158ef06"
    },
    {
      "cell_type": "code",
      "execution_count": 15,
      "metadata": {
        "colab": {
          "base_uri": "https://localhost:8080/"
        },
        "id": "84cc38e7",
        "outputId": "f5928b60-2733-4963-cb57-1350b84d8d8e"
      },
      "outputs": [
        {
          "output_type": "stream",
          "name": "stdout",
          "text": [
            "tensor([2, 0, 9,  ..., 3, 9, 2], device='cuda:0')\n"
          ]
        }
      ],
      "source": [
        "with torch.inference_mode():\n",
        "  X_test = X_test.to(device)\n",
        "  output = model(X_test)\n",
        "  _, predictions = torch.max(output, axis = 1)\n",
        "\n",
        "print(predictions)"
      ],
      "id": "84cc38e7"
    },
    {
      "cell_type": "code",
      "execution_count": 16,
      "metadata": {
        "id": "ARSWslF0I8CG"
      },
      "outputs": [],
      "source": [
        "ImageId = np.arange(predictions.shape[0]) + 1\n",
        "submission = pd.DataFrame({'ImageId': ImageId, 'Label': predictions.cpu()})\n",
        "submission.to_csv('submission.csv', index=False)"
      ],
      "id": "ARSWslF0I8CG"
    },
    {
      "cell_type": "code",
      "source": [
        "torch.save(model.state_dict(), 'model_3_hidden_layer.pt')"
      ],
      "metadata": {
        "id": "YvabKynQb43k"
      },
      "id": "YvabKynQb43k",
      "execution_count": 17,
      "outputs": []
    }
  ],
  "metadata": {
    "accelerator": "GPU",
    "colab": {
      "provenance": [],
      "gpuType": "T4"
    },
    "kernelspec": {
      "display_name": "Python 3",
      "name": "python3"
    },
    "language_info": {
      "codemirror_mode": {
        "name": "ipython",
        "version": 3
      },
      "file_extension": ".py",
      "mimetype": "text/x-python",
      "name": "python",
      "nbconvert_exporter": "python",
      "pygments_lexer": "ipython3",
      "version": "3.11.5"
    }
  },
  "nbformat": 4,
  "nbformat_minor": 5
}